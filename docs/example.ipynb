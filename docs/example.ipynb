{
 "cells": [
  {
   "cell_type": "markdown",
   "id": "f3d1f70b",
   "metadata": {},
   "source": [
    "Print the version number"
   ]
  },
  {
   "cell_type": "code",
   "execution_count": 1,
   "id": "f5b218c9",
   "metadata": {},
   "outputs": [
    {
     "name": "stdout",
     "output_type": "stream",
     "text": [
      "0.0.32\n"
     ]
    }
   ],
   "source": [
    "import goats\n",
    "print(goats.__version__)"
   ]
  },
  {
   "cell_type": "markdown",
   "id": "0be1f577",
   "metadata": {},
   "source": [
    "The first thing we'll do is import the packages we need.\n",
    "\n",
    "* `pathlib` is the built-in package for working with system paths  \n",
    "* `matplotlib` is a popular third-party package for creating figures  \n",
    "* `eprem` is the GOATS subpackage for working with EPREM output  "
   ]
  },
  {
   "cell_type": "code",
   "execution_count": 2,
   "id": "a2d733b5",
   "metadata": {},
   "outputs": [],
   "source": [
    "import pathlib\n",
    "\n",
    "import matplotlib.pyplot as plt\n",
    "\n",
    "from goats import eprem"
   ]
  },
  {
   "cell_type": "markdown",
   "id": "6cf1b4bd",
   "metadata": {},
   "source": [
    "Next, we'll create a stream observer, which is the type of observer that corresponds to an EPREM output file with a name like `obs######.nc`. This invokation assumes that the data file, as well as an EPREM runtime parameter file called `eprem_input_file`, are in a local subdirectory called `data`."
   ]
  },
  {
   "cell_type": "code",
   "execution_count": 3,
   "id": "1fa2211a",
   "metadata": {},
   "outputs": [],
   "source": [
    "stream = eprem.Stream(350, source='data')"
   ]
  },
  {
   "cell_type": "markdown",
   "id": "4705295d",
   "metadata": {},
   "source": [
    "We can request the value of simulation runtime parameters by aliased keyword. For example, let's check the assumed mean free path at 1 au."
   ]
  },
  {
   "cell_type": "code",
   "execution_count": 4,
   "id": "03418cee",
   "metadata": {},
   "outputs": [
    {
     "name": "stdout",
     "output_type": "stream",
     "text": [
      "'lam0 | lambda0 | lamo': [1.] [au]\n"
     ]
    }
   ],
   "source": [
    "print(stream['lambda0'])"
   ]
  },
  {
   "cell_type": "markdown",
   "id": "5a449eaa",
   "metadata": {},
   "source": [
    "The text tells us that this simulation run used a value of 1.0 au (astronomical unit) for this parameter. It also suggests that we could have requested this value by the keywords 'lamo' or 'lam0'."
   ]
  },
  {
   "cell_type": "code",
   "execution_count": 5,
   "id": "0a3136fd",
   "metadata": {},
   "outputs": [
    {
     "name": "stdout",
     "output_type": "stream",
     "text": [
      "'lam0 | lambda0 | lamo': [1.] [au]\n",
      "'lam0 | lambda0 | lamo': [1.] [au]\n"
     ]
    }
   ],
   "source": [
    "print(stream['lamo'])\n",
    "print(stream['lam0'])"
   ]
  },
  {
   "cell_type": "markdown",
   "id": "d2dd33f6",
   "metadata": {},
   "source": [
    "We can also request observable quantities by aliased keyword. Here is the radial velocity."
   ]
  },
  {
   "cell_type": "code",
   "execution_count": 6,
   "id": "60e73ce9",
   "metadata": {},
   "outputs": [
    {
     "name": "stdout",
     "output_type": "stream",
     "text": [
      "'vr | Vr', unit='m s^-1', axes=['time', 'shell']\n"
     ]
    }
   ],
   "source": [
    "vr = stream['Vr']\n",
    "print(vr)"
   ]
  },
  {
   "cell_type": "markdown",
   "id": "af07c423",
   "metadata": {},
   "source": [
    "The text tells us that the radial velocity output array has a time axis and a shell axis. EPREM shells are logical surface of nodes in the Lagrangian grid. Each shell index along a given stream represents one node. We can observe radial velocity at a single time (e.g., 1 hour of real time since simulation start) on a single node as follows:"
   ]
  },
  {
   "cell_type": "code",
   "execution_count": 7,
   "id": "fda7a21b",
   "metadata": {},
   "outputs": [
    {
     "data": {
      "text/plain": [
       "core.observed.Quantity('vr | Vr': unit='m s^-1', dimensions=['time', 'shell'], parameters=[])"
      ]
     },
     "execution_count": 7,
     "metadata": {},
     "output_type": "execute_result"
    }
   ],
   "source": [
    "t0 = 1.0, 'hour'\n",
    "vr.observe(time=t0, shell=1000)"
   ]
  },
  {
   "cell_type": "markdown",
   "id": "acd0d98d",
   "metadata": {},
   "source": [
    "In the case of a constant isotropic solar wind, the stream nodes would extend radially outward from the Sun; with some trial-and-error, we could figure out which shell is closest to a particular radius (e.g., 1 au).\n",
    "\n",
    "Instead, we often want to interpolate an observation to the radius of interest."
   ]
  },
  {
   "cell_type": "code",
   "execution_count": 8,
   "id": "b07ba949",
   "metadata": {},
   "outputs": [],
   "source": [
    "observed = vr.observe(radius=[0.1, 'au'])"
   ]
  },
  {
   "cell_type": "markdown",
   "id": "877aa2d2",
   "metadata": {},
   "source": [
    "Now that we have an observation of the radial velocity at 0.1 au as a function of time, we can plot it. First, we'll define intermediate variables to hold the time in hours and the radial velocity in kilometers per second."
   ]
  },
  {
   "cell_type": "code",
   "execution_count": 9,
   "id": "69e013d3",
   "metadata": {},
   "outputs": [],
   "source": [
    "time = observed['time']['hour']\n",
    "data = observed.data['km / s']"
   ]
  },
  {
   "cell_type": "markdown",
   "id": "719be5a8",
   "metadata": {},
   "source": [
    "Next, we'll make sure there's a `figures` directory (to avoid cluttering the current directory) and load the plotting library."
   ]
  },
  {
   "cell_type": "code",
   "execution_count": 10,
   "id": "9267be36",
   "metadata": {},
   "outputs": [],
   "source": [
    "figpath = pathlib.Path('figures').resolve()\n",
    "figpath.mkdir(exist_ok=True)"
   ]
  },
  {
   "cell_type": "markdown",
   "id": "36409bd0",
   "metadata": {},
   "source": [
    "Finally, we'll create and save the plot."
   ]
  },
  {
   "cell_type": "code",
   "execution_count": 11,
   "id": "ba0977c7",
   "metadata": {},
   "outputs": [
    {
     "data": {
      "image/png": "[encoded data removed]",
      "text/plain": [
       "<Figure size 432x288 with 1 Axes>"
      ]
     },
     "metadata": {
      "needs_background": "light"
     },
     "output_type": "display_data"
    }
   ],
   "source": [
    "plt.plot(time, data)\n",
    "plt.xlabel('Time [hours]')\n",
    "plt.ylabel('Vr [km/s]')\n",
    "plt.savefig(figpath / 'vr-hours.png')"
   ]
  },
  {
   "cell_type": "markdown",
   "id": "c78393ff",
   "metadata": {},
   "source": [
    "There are many other observable quantities available to an observer, and they are not limited to those in the observer's source data."
   ]
  },
  {
   "cell_type": "code",
   "execution_count": 12,
   "id": "fbbe9f2a",
   "metadata": {},
   "outputs": [
    {
     "name": "stdout",
     "output_type": "stream",
     "text": [
      "True\n",
      "True\n"
     ]
    }
   ],
   "source": [
    "print('flux' in stream.observables)\n",
    "print('mean free path' in stream.observables)"
   ]
  },
  {
   "cell_type": "code",
   "execution_count": 13,
   "id": "f0b5f22c",
   "metadata": {},
   "outputs": [
    {
     "data": {
      "text/plain": [
       "core.observable.Quantity('Flux | j(E) | j | J(E) | J | flux', unit='J^-1 s^-1 sr^-1 m^-2', axes=['time', 'shell', 'species', 'energy'])"
      ]
     },
     "execution_count": 13,
     "metadata": {},
     "output_type": "execute_result"
    }
   ],
   "source": [
    "stream['flux']"
   ]
  },
  {
   "cell_type": "code",
   "execution_count": 14,
   "id": "9076f9d0",
   "metadata": {},
   "outputs": [
    {
     "data": {
      "text/plain": [
       "core.observable.Quantity('mean_free_path | mfp | mean free path', unit='m', axes=['time', 'shell', 'species', 'energy'])"
      ]
     },
     "execution_count": 14,
     "metadata": {},
     "output_type": "execute_result"
    }
   ],
   "source": [
    "stream['mean free path']"
   ]
  },
  {
   "cell_type": "markdown",
   "id": "682acd43",
   "metadata": {},
   "source": [
    "We can even create observable quantities by symbolically composing existing observable quantities"
   ]
  },
  {
   "cell_type": "code",
   "execution_count": 15,
   "id": "32270191",
   "metadata": {},
   "outputs": [
    {
     "data": {
      "text/plain": [
       "core.observable.Quantity('mfp / Vr', unit='s', axes=['time', 'shell', 'species', 'energy'])"
      ]
     },
     "execution_count": 15,
     "metadata": {},
     "output_type": "execute_result"
    }
   ],
   "source": [
    "stream['mfp / Vr']"
   ]
  },
  {
   "cell_type": "code",
   "execution_count": 16,
   "id": "79dc786e",
   "metadata": {},
   "outputs": [
    {
     "data": {
      "text/plain": [
       "core.observable.Quantity('rho * energy', unit='kg m^-1 s^-2', axes=['species', 'energy', 'time', 'shell'])"
      ]
     },
     "execution_count": 16,
     "metadata": {},
     "output_type": "execute_result"
    }
   ],
   "source": [
    "stream['rho * energy']"
   ]
  },
  {
   "cell_type": "markdown",
   "id": "3c31dffb",
   "metadata": {},
   "source": [
    "Note that the unit is consistent with the composed quantity and that the axes of the composed quantity represent the union of the axes of the component quantities."
   ]
  },
  {
   "cell_type": "markdown",
   "id": "74734ffe",
   "metadata": {},
   "source": [
    "To illustrate full use of a composed quantity, consider observing the ratio of the mean free path of protons with 1 and 5 MeV to the radial velocity of the solar wind."
   ]
  },
  {
   "cell_type": "code",
   "execution_count": 17,
   "id": "6c985d94",
   "metadata": {},
   "outputs": [
    {
     "data": {
      "image/png": "[encoded data removed]",
      "text/plain": [
       "<Figure size 432x288 with 1 Axes>"
      ]
     },
     "metadata": {
      "needs_background": "light"
     },
     "output_type": "display_data"
    }
   ],
   "source": [
    "observed = stream['mfp / Vr'].observe(radius=[0.1, 'au'], energy=[1, 5, 'MeV'])\n",
    "lines = plt.plot(observed['time']['hour'], observed.array)\n",
    "lines[0].set_label('1 MeV')\n",
    "lines[1].set_label('5 MeV')\n",
    "plt.xlabel('Time [hours]')\n",
    "plt.ylabel('mfp / Vr [s]')\n",
    "plt.legend()\n",
    "plt.savefig(figpath / 'mfp_vr-hours.png')"
   ]
  }
 ],
 "metadata": {
  "kernelspec": {
   "display_name": "Python 3.8.12 ('goats')",
   "language": "python",
   "name": "python3"
  },
  "language_info": {
   "codemirror_mode": {
    "name": "ipython",
    "version": 3
   },
   "file_extension": ".py",
   "mimetype": "text/x-python",
   "name": "python",
   "nbconvert_exporter": "python",
   "pygments_lexer": "ipython3",
   "version": "3.8.12"
  },
  "vscode": {
   "interpreter": {
    "hash": "3c1e410913229d416f8b2e8ccdbd285b3e4e954f045a35658a04c7254a61b528"
   }
  }
 },
 "nbformat": 4,
 "nbformat_minor": 5
}
